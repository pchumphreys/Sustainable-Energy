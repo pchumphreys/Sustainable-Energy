{
 "cells": [
  {
   "cell_type": "code",
   "execution_count": 5,
   "metadata": {},
   "outputs": [
    {
     "ename": "ImportError",
     "evalue": "No module named netCDF4",
     "output_type": "error",
     "traceback": [
      "\u001b[0;31m---------------------------------------------------------------------------\u001b[0m",
      "\u001b[0;31mImportError\u001b[0m                               Traceback (most recent call last)",
      "\u001b[0;32m<ipython-input-5-69b25ae88185>\u001b[0m in \u001b[0;36m<module>\u001b[0;34m()\u001b[0m\n\u001b[1;32m      1\u001b[0m \u001b[0;32mimport\u001b[0m \u001b[0mnumpy\u001b[0m \u001b[0;32mas\u001b[0m \u001b[0mnp\u001b[0m\u001b[0;34m\u001b[0m\u001b[0m\n\u001b[0;32m----> 2\u001b[0;31m \u001b[0;32mfrom\u001b[0m \u001b[0mnetCDF4\u001b[0m \u001b[0;32mimport\u001b[0m \u001b[0mDataset\u001b[0m\u001b[0;34m\u001b[0m\u001b[0m\n\u001b[0m\u001b[1;32m      3\u001b[0m \u001b[0;32mimport\u001b[0m \u001b[0mgzip\u001b[0m\u001b[0;34m\u001b[0m\u001b[0m\n\u001b[1;32m      4\u001b[0m \u001b[0;32mimport\u001b[0m \u001b[0mtempfile\u001b[0m\u001b[0;34m\u001b[0m\u001b[0m\n\u001b[1;32m      5\u001b[0m \u001b[0;32mimport\u001b[0m \u001b[0mshutil\u001b[0m\u001b[0;34m\u001b[0m\u001b[0m\n",
      "\u001b[0;31mImportError\u001b[0m: No module named netCDF4"
     ]
    }
   ],
   "source": [
    "import numpy as np\n",
    "from netCDF4 import Dataset\n",
    "import gzip\n",
    "import tempfile\n",
    "import shutil\n",
    "%matplotlib inline\n",
    "import matplotlib.pyplot as plt\n",
    "from mpl_toolkits.basemap import Basemap"
   ]
  },
  {
   "cell_type": "code",
   "execution_count": 2,
   "metadata": {},
   "outputs": [],
   "source": [
    "import datetime\n",
    "\n",
    "dates = []\n",
    "for j in xrange(1,13): \n",
    "    d=1\n",
    "    while True:\n",
    "        try:\n",
    "            date=datetime.date(2013,j,d).strftime('%Y%m%d')\n",
    "            dates.append(date)\n",
    "        except:\n",
    "            break\n",
    "        d += 1"
   ]
  },
  {
   "cell_type": "markdown",
   "metadata": {},
   "source": [
    "MAB (Mean Absolute Bias) below 18 W/m²\n",
    "and 85 % of absolute bias values below\n",
    "20 W/m² (+ uncertainty of ground based\n",
    "measurements) for monthly means.\n",
    "Very low bias of 2.5 W/m² for monthly, daily\n",
    "hourly means.\n",
    "Higher bias values occur in the Alpine and\n",
    "other mountainous regions, e. g. due to\n",
    "uncertainties in area to point comparison and\n",
    "snow coverage"
   ]
  },
  {
   "cell_type": "code",
   "execution_count": 3,
   "metadata": {},
   "outputs": [
    {
     "name": "stdout",
     "output_type": "stream",
     "text": [
      "Processing file 1\n"
     ]
    },
    {
     "ename": "NameError",
     "evalue": "name 'tempfile' is not defined",
     "output_type": "error",
     "traceback": [
      "\u001b[0;31m---------------------------------------------------------------------------\u001b[0m",
      "\u001b[0;31mNameError\u001b[0m                                 Traceback (most recent call last)",
      "\u001b[0;32m<ipython-input-3-e94f130185ae>\u001b[0m in \u001b[0;36m<module>\u001b[0;34m()\u001b[0m\n\u001b[1;32m      8\u001b[0m     \u001b[0mdat_file\u001b[0m \u001b[0;34m=\u001b[0m \u001b[0;34mr'/Users/humphreys/Repositories/personal_calcs/Climate/ORD21164/DNIdm'\u001b[0m \u001b[0;34m+\u001b[0m \u001b[0mdates\u001b[0m\u001b[0;34m[\u001b[0m\u001b[0mj\u001b[0m\u001b[0;34m]\u001b[0m \u001b[0;34m+\u001b[0m \u001b[0;34m'0000002231000101MA.nc.gz'\u001b[0m\u001b[0;34m\u001b[0m\u001b[0m\n\u001b[1;32m      9\u001b[0m \u001b[0;34m\u001b[0m\u001b[0m\n\u001b[0;32m---> 10\u001b[0;31m     \u001b[0mtmpfile\u001b[0m \u001b[0;34m=\u001b[0m \u001b[0mtempfile\u001b[0m\u001b[0;34m.\u001b[0m\u001b[0mNamedTemporaryFile\u001b[0m\u001b[0;34m(\u001b[0m\u001b[0;34m)\u001b[0m\u001b[0;34m\u001b[0m\u001b[0m\n\u001b[0m\u001b[1;32m     11\u001b[0m     \u001b[0mshutil\u001b[0m\u001b[0;34m.\u001b[0m\u001b[0mcopyfileobj\u001b[0m\u001b[0;34m(\u001b[0m\u001b[0mgzip\u001b[0m\u001b[0;34m.\u001b[0m\u001b[0mopen\u001b[0m\u001b[0;34m(\u001b[0m\u001b[0mdat_file\u001b[0m\u001b[0;34m)\u001b[0m\u001b[0;34m,\u001b[0m \u001b[0mtmpfile\u001b[0m\u001b[0;34m)\u001b[0m\u001b[0;34m\u001b[0m\u001b[0m\n\u001b[1;32m     12\u001b[0m     \u001b[0mnc\u001b[0m \u001b[0;34m=\u001b[0m \u001b[0mDataset\u001b[0m\u001b[0;34m(\u001b[0m\u001b[0mtmpfile\u001b[0m\u001b[0;34m.\u001b[0m\u001b[0mname\u001b[0m\u001b[0;34m,\u001b[0m \u001b[0mmode\u001b[0m\u001b[0;34m=\u001b[0m\u001b[0;34m'r'\u001b[0m\u001b[0;34m)\u001b[0m\u001b[0;34m\u001b[0m\u001b[0m\n",
      "\u001b[0;31mNameError\u001b[0m: name 'tempfile' is not defined"
     ]
    }
   ],
   "source": [
    "latbounds =  [30,58]\n",
    "lonbounds = [-20,37]\n",
    "\n",
    "max_ind = 2\n",
    "for j in xrange(0,max_ind):\n",
    "    if np.mod(j,10) == 0:\n",
    "        print \"Processing file \"+ str(j+1)\n",
    "    dat_file = r'/Users/humphreys/Repositories/personal_calcs/Climate/ORD21164/DNIdm' + dates[j] + '0000002231000101MA.nc.gz'\n",
    "\n",
    "    tmpfile = tempfile.NamedTemporaryFile()\n",
    "    shutil.copyfileobj(gzip.open(dat_file), tmpfile)\n",
    "    nc = Dataset(tmpfile.name, mode='r')\n",
    "\n",
    "    SID = nc.variables['SID'][:].squeeze()\n",
    "    \n",
    "    if j == 0:\n",
    "        \n",
    "        lat = nc.variables['lat'][:]\n",
    "        lon = nc.variables['lon'][:]\n",
    "\n",
    "        latgridbounds = [np.argmin(abs(lat-i)) for i in latbounds]\n",
    "        longridbounds = [np.argmin(abs(lon-i)) for i in lonbounds]\n",
    "        lon = lon[longridbounds[0]:longridbounds[1]]\n",
    "        lat = lat[latgridbounds[0]:latgridbounds[1]]\n",
    "        \n",
    "        lons,lats= np.meshgrid(lon,lat)\n",
    "        SIDarray = np.zeros([max_ind,np.shape(lons)[0],np.shape(lons)[1]])\n",
    "        \n",
    "    SIDarray[j] = SID[latgridbounds[0]:latgridbounds[1],longridbounds[0]:longridbounds[1]]\n",
    "    tmpfile.close()\n"
   ]
  },
  {
   "cell_type": "code",
   "execution_count": 4,
   "metadata": {},
   "outputs": [
    {
     "ename": "NameError",
     "evalue": "name 'SIDarray' is not defined",
     "output_type": "error",
     "traceback": [
      "\u001b[0;31m---------------------------------------------------------------------------\u001b[0m",
      "\u001b[0;31mNameError\u001b[0m                                 Traceback (most recent call last)",
      "\u001b[0;32m<ipython-input-4-7599f9e115df>\u001b[0m in \u001b[0;36m<module>\u001b[0;34m()\u001b[0m\n\u001b[1;32m      3\u001b[0m \u001b[0mrunningAvgFilter\u001b[0m \u001b[0;34m=\u001b[0m \u001b[0mnp\u001b[0m\u001b[0;34m.\u001b[0m\u001b[0mones\u001b[0m\u001b[0;34m(\u001b[0m\u001b[0;34m(\u001b[0m\u001b[0mrunningAvgLength\u001b[0m\u001b[0;34m,\u001b[0m\u001b[0;34m)\u001b[0m\u001b[0;34m)\u001b[0m\u001b[0;34m/\u001b[0m\u001b[0mrunningAvgLength\u001b[0m\u001b[0;34m\u001b[0m\u001b[0m\n\u001b[1;32m      4\u001b[0m \u001b[0;34m\u001b[0m\u001b[0m\n\u001b[0;32m----> 5\u001b[0;31m \u001b[0mSIDmean\u001b[0m \u001b[0;34m=\u001b[0m \u001b[0mnp\u001b[0m\u001b[0;34m.\u001b[0m\u001b[0mapply_along_axis\u001b[0m\u001b[0;34m(\u001b[0m\u001b[0;32mlambda\u001b[0m \u001b[0mm\u001b[0m\u001b[0;34m:\u001b[0m \u001b[0mnp\u001b[0m\u001b[0;34m.\u001b[0m\u001b[0mconvolve\u001b[0m\u001b[0;34m(\u001b[0m\u001b[0mm\u001b[0m\u001b[0;34m,\u001b[0m \u001b[0mrunningAvgFilter\u001b[0m\u001b[0;34m,\u001b[0m \u001b[0mmode\u001b[0m\u001b[0;34m=\u001b[0m\u001b[0;34m'valid'\u001b[0m\u001b[0;34m)\u001b[0m\u001b[0;34m,\u001b[0m \u001b[0maxis\u001b[0m\u001b[0;34m=\u001b[0m\u001b[0;36m0\u001b[0m\u001b[0;34m,\u001b[0m \u001b[0marr\u001b[0m\u001b[0;34m=\u001b[0m\u001b[0mSIDarray\u001b[0m\u001b[0;34m)\u001b[0m\u001b[0;34m\u001b[0m\u001b[0m\n\u001b[0m\u001b[1;32m      6\u001b[0m \u001b[0;34m\u001b[0m\u001b[0m\n\u001b[1;32m      7\u001b[0m \u001b[0mSIDarrayDif\u001b[0m \u001b[0;34m=\u001b[0m \u001b[0mSIDarray\u001b[0m\u001b[0;34m[\u001b[0m\u001b[0;34m(\u001b[0m\u001b[0;34m(\u001b[0m\u001b[0mrunningAvgLength\u001b[0m\u001b[0;34m-\u001b[0m\u001b[0;36m1\u001b[0m\u001b[0;34m)\u001b[0m\u001b[0;34m/\u001b[0m\u001b[0;36m2\u001b[0m\u001b[0;34m)\u001b[0m\u001b[0;34m:\u001b[0m\u001b[0;34m-\u001b[0m\u001b[0;34m(\u001b[0m\u001b[0;34m(\u001b[0m\u001b[0mrunningAvgLength\u001b[0m\u001b[0;34m-\u001b[0m\u001b[0;36m1\u001b[0m\u001b[0;34m)\u001b[0m\u001b[0;34m/\u001b[0m\u001b[0;36m2\u001b[0m\u001b[0;34m)\u001b[0m\u001b[0;34m]\u001b[0m \u001b[0;34m-\u001b[0m \u001b[0mSIDmean\u001b[0m\u001b[0;34m\u001b[0m\u001b[0m\n",
      "\u001b[0;31mNameError\u001b[0m: name 'SIDarray' is not defined"
     ]
    }
   ],
   "source": [
    "# SIDmean = np.mean(SIDarray,axis=0)\n",
    "runningAvgLength = 31\n",
    "runningAvgFilter = np.ones((runningAvgLength,))/runningAvgLength\n",
    "\n",
    "SIDmean = np.apply_along_axis(lambda m: np.convolve(m, runningAvgFilter, mode='valid'), axis=0, arr=SIDarray)\n",
    "\n",
    "SIDarrayDif = SIDarray[((runningAvgLength-1)/2):-((runningAvgLength-1)/2)] - SIDmean"
   ]
  },
  {
   "cell_type": "code",
   "execution_count": null,
   "metadata": {},
   "outputs": [],
   "source": [
    "fig=plt.figure()\n",
    "ax = fig.add_axes([0.05,0.05,0.9,0.85])\n",
    "# projmap = Basemap(projection='ortho',lat_0=45,lon_0=40,resolution='l')\n",
    "projmap = Basemap(llcrnrlon=np.min(lon)-2,llcrnrlat=np.min(lat)-2,urcrnrlon=np.max(lon)+2,urcrnrlat=np.max(lat)+2,projection='mill',fix_aspect = True,resolution='l')\n",
    "projmap.drawcoastlines()\n",
    "projmap.drawcountries()\n",
    "x,y = projmap(lons,lats)\n",
    "temp = projmap.contourf(x,y,SIDarrayDif[-1])\n",
    "cb = projmap.colorbar(temp,\"bottom\", size=\"5%\", pad=\"2%\")\n",
    "plt.title('SID')\n",
    "cb.set_label('SID')\n",
    "\n",
    "fig=plt.figure()\n",
    "ax = fig.add_axes([0.05,0.05,0.9,0.85])\n",
    "# projmap = Basemap(projection='ortho',lat_0=45,lon_0=40,resolution='l')\n",
    "projmap = Basemap(llcrnrlon=np.min(lon)-2,llcrnrlat=np.min(lat)-2,urcrnrlon=np.max(lon)+2,urcrnrlat=np.max(lat)+2,projection='mill',fix_aspect = True,resolution='l')\n",
    "projmap.drawcoastlines()\n",
    "projmap.drawcountries()\n",
    "temp = projmap.contourf(x,y,SIDmean[-1])\n",
    "cb = projmap.colorbar(temp,\"bottom\", size=\"5%\", pad=\"2%\")\n",
    "plt.title('SID')\n",
    "cb.set_label('SID')"
   ]
  },
  {
   "cell_type": "markdown",
   "metadata": {},
   "source": [
    "Interesting detour - lets be correct about this - lat lon gives different distance between points depending on your vertical position (latitude)"
   ]
  },
  {
   "cell_type": "code",
   "execution_count": null,
   "metadata": {
    "collapsed": true
   },
   "outputs": [],
   "source": [
    "def haversine(lons, lats, reflat,reflon):\n",
    "    \"\"\"\n",
    "    Calculate the great circle distance between two points \n",
    "    on the earth (specified in decimal degrees)\n",
    "    \"\"\"\n",
    "    # convert decimal degrees to radians \n",
    "    lons, lats, reflat, reflon = map(lambda x : (np.pi/180)*x, [lons, lats, reflat, reflon])\n",
    "\n",
    "    # haversine formula \n",
    "    dlons = lons - reflon \n",
    "    dlats = lats - reflat \n",
    "    a = np.sin(dlats/2)**2 + np.cos(reflat) * np.cos(lats) * np.sin(dlons/2)**2\n",
    "    c = 2 * np.arcsin(np.sqrt(a)) \n",
    "    r = 6371 # Radius of earth in kilometers. Use 3956 for miles\n",
    "    return c * r\n",
    "\n",
    "def haversine(lons, lats, reflat,reflon):\n",
    "    \"\"\"\n",
    "    Calculate the distance between points on earth\n",
    "    \"\"\"\n",
    "    # convert decimal degrees to radians \n",
    "    lons, lats, reflat, reflon = map(lambda x : (np.pi/180)*x, [lons, lats, reflat, reflon])\n",
    "\n",
    "    # haversine formula \n",
    "    dlons = lons - reflon \n",
    "    dlats = lats - reflat \n",
    "    a = np.sin(dlats/2)**2 + np.cos(reflat) * np.cos(lats) * np.sin(dlons/2)**2\n",
    "    c = 2 * np.arcsin(np.sqrt(a)) \n",
    "    r = 6371 # Radius of earth in kilometers. Use 3956 for miles\n",
    "    return c * r"
   ]
  },
  {
   "cell_type": "code",
   "execution_count": null,
   "metadata": {},
   "outputs": [],
   "source": [
    "lonscorrected = haversine(lons,lats,lat[0],lon[0])"
   ]
  },
  {
   "cell_type": "code",
   "execution_count": null,
   "metadata": {
    "collapsed": true
   },
   "outputs": [],
   "source": [
    "scipy.interpolate.interp2d(x, y, z, kind='cubic')"
   ]
  },
  {
   "cell_type": "code",
   "execution_count": null,
   "metadata": {},
   "outputs": [],
   "source": [
    "import scipy\n",
    "max_ind = np.shape(SIDarrayDif)[0]\n",
    "for i in range(max_ind):\n",
    "    if np.mod(j,10) == 0:\n",
    "        print \"Processing file \"+ str(j+1)\n",
    "        \n",
    "    SID = SIDarrayDif[i]\n",
    "    fftSID=np.fft.fft2(SID)\n",
    "    cor=np.real(np.fft.ifft2(fftSID*np.conj(fftSID)))\n",
    "    cor=cor/np.max(cor)\n",
    "    if i == 0:\n",
    "        cor_mean = cor\n",
    "    else:\n",
    "        cor_mean += cor\n",
    "\n",
    "cor_mean = cor_mean/max_ind\n",
    "\n",
    "plt.subplot(1,1,1)\n",
    "plt.imshow(np.fft.fftshift(cor_mean))\n",
    "plt.clim([-1,1])\n",
    "plt.colorbar()"
   ]
  },
  {
   "cell_type": "code",
   "execution_count": null,
   "metadata": {
    "collapsed": true
   },
   "outputs": [],
   "source": []
  }
 ],
 "metadata": {
  "kernelspec": {
   "display_name": "Python 2",
   "language": "python",
   "name": "python2"
  },
  "language_info": {
   "codemirror_mode": {
    "name": "ipython",
    "version": 2
   },
   "file_extension": ".py",
   "mimetype": "text/x-python",
   "name": "python",
   "nbconvert_exporter": "python",
   "pygments_lexer": "ipython2",
   "version": "2.7.13"
  }
 },
 "nbformat": 4,
 "nbformat_minor": 1
}
